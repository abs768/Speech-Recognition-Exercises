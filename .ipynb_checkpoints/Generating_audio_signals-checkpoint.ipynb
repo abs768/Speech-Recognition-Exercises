{
 "cells": [
  {
   "cell_type": "code",
   "execution_count": 1,
   "metadata": {
    "id": "c-cbUQkBocno"
   },
   "outputs": [],
   "source": [
    "# File where the output will be saved\n",
    "output_file = 'output_generated.wav'"
   ]
  },
  {
   "cell_type": "code",
   "execution_count": 2,
   "metadata": {
    "id": "2gGGPKXzn2ZM"
   },
   "outputs": [],
   "source": [
    "import numpy as np\n",
    "import matplotlib.pyplot as plt\n",
    "from scipy.io.wavfile import write"
   ]
  },
  {
   "cell_type": "code",
   "execution_count": 3,
   "metadata": {
    "id": "vaRXjR0locd3"
   },
   "outputs": [],
   "source": [
    "# Specify audio parameters\n",
    "duration = 6  # seconds\n",
    "sampling_freq = 100000  # Hz\n",
    "tone_freq = 3000\n",
    "min_val = -2 * np.pi\n",
    "max_val = 2 * np.pi"
   ]
  },
  {
   "cell_type": "code",
   "execution_count": 4,
   "metadata": {
    "id": "bVTOcugzocYU"
   },
   "outputs": [],
   "source": [
    "# Generate audio\n",
    "t = np.linspace(min_val, max_val, duration * sampling_freq)\n",
    "audio = np.sin(2 * np.pi * tone_freq * t)"
   ]
  },
  {
   "cell_type": "code",
   "execution_count": 5,
   "metadata": {
    "id": "PBL9Tt1EocEv"
   },
   "outputs": [
    {
     "name": "stderr",
     "output_type": "stream",
     "text": [
      "C:\\Users\\abhav\\AppData\\Local\\Temp\\ipykernel_9640\\2875718274.py:3: RuntimeWarning: invalid value encountered in true_divide\n",
      "  audio_normalized = audio / np.max(np.abs(audio))\n"
     ]
    }
   ],
   "source": [
    "# Scale it to 16-bit integer values\n",
    "scaling_factor = pow(2,15) - 1\n",
    "audio_normalized = audio / np.max(np.abs(audio))\n",
    "audio_scaled = np.int16(audio_normalized * scaling_factor)"
   ]
  },
  {
   "cell_type": "code",
   "execution_count": 6,
   "metadata": {
    "id": "_mJRp-F1ob0W"
   },
   "outputs": [],
   "source": [
    "# Write to output file\n",
    "write(output_file, sampling_freq, audio_scaled)"
   ]
  },
  {
   "cell_type": "code",
   "execution_count": 7,
   "metadata": {
    "id": "OC2wT_Nqo46M"
   },
   "outputs": [],
   "source": [
    "# Extract first 100 values for plotting\n",
    "audio = audio[:100]"
   ]
  },
  {
   "cell_type": "code",
   "execution_count": 8,
   "metadata": {
    "id": "TgGiAr6ko4xH"
   },
   "outputs": [],
   "source": [
    "# Build the time axis\n",
    "x_values = np.arange(0, len(audio), 1) / float(sampling_freq)"
   ]
  },
  {
   "cell_type": "code",
   "execution_count": 9,
   "metadata": {
    "id": "C9Owgdx4o4ny"
   },
   "outputs": [],
   "source": [
    "# Convert to seconds\n",
    "x_values *= 1000"
   ]
  },
  {
   "cell_type": "code",
   "execution_count": 10,
   "metadata": {
    "colab": {
     "base_uri": "https://localhost:8080/",
     "height": 295
    },
    "id": "apPNKc-no4dq",
    "outputId": "56e9a92e-fca4-4298-aafb-03c4a74f3e1f"
   },
   "outputs": [
    {
     "data": {
      "image/png": "[encoded data removed]",
      "text/plain": [
       "<Figure size 640x480 with 1 Axes>"
      ]
     },
     "metadata": {},
     "output_type": "display_data"
    }
   ],
   "source": [
    "# Plotting the chopped audio signal\n",
    "plt.plot(x_values, audio, color='black')\n",
    "plt.xlabel('Time (ms)')\n",
    "plt.ylabel('Amplitude')\n",
    "plt.title('Audio signal')\n",
    "plt.show()"
   ]
  },
  {
   "cell_type": "code",
   "execution_count": null,
   "metadata": {},
   "outputs": [],
   "source": []
  },
  {
   "cell_type": "code",
   "execution_count": null,
   "metadata": {},
   "outputs": [],
   "source": []
  }
 ],
 "metadata": {
  "colab": {
   "provenance": []
  },
  "kernelspec": {
   "display_name": "Python 3 (ipykernel)",
   "language": "python",
   "name": "python3"
  },
  "language_info": {
   "codemirror_mode": {
    "name": "ipython",
    "version": 3
   },
   "file_extension": ".py",
   "mimetype": "text/x-python",
   "name": "python",
   "nbconvert_exporter": "python",
   "pygments_lexer": "ipython3",
   "version": "3.9.13"
  }
 },
 "nbformat": 4,
 "nbformat_minor": 1
}
