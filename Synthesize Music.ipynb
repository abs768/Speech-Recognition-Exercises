{
 "cells": [
  {
   "cell_type": "code",
   "execution_count": 1,
   "id": "70a28c61",
   "metadata": {},
   "outputs": [],
   "source": [
    "import json\n",
    "import numpy as np\n",
    "from scipy.io.wavfile import write\n",
    "import matplotlib.pyplot as plt\n",
    "\n",
    "# Synthesize tone\n",
    "def synthesizer(freq, duration, amp=1.0, sampling_freq=2000):\n",
    "    # Build the time axis\n",
    "    t = np.linspace(0, duration, int(duration) * int(sampling_freq))\n",
    "\n",
    "    # Construct the audio signal\n",
    "    audio = amp * np.sin(2 * np.pi * freq * t)\n",
    "\n",
    "    return audio.astype(np.int16) \n",
    "\n",
    "if __name__=='__main__':\n",
    "    # Input file containing note to frequency mapping\n",
    "    tone_map_file = 'tone_freq_map.json'\n",
    "    \n",
    "    # Read the frequency map\n",
    "    with open(tone_map_file, 'r') as f:\n",
    "        tone_freq_map = json.loads(f.read())\n",
    "        \n",
    "    # Set input parameters to generate 'G' tone\n",
    "    input_tone = 'G'\n",
    "    duration = 2     # seconds\n",
    "    amplitude = 10000\n",
    "    sampling_freq = 2000    # Hz\n",
    "\n",
    "    # Generate the tone\n",
    "    synthesized_tone = synthesizer(tone_freq_map[input_tone], duration, amplitude, sampling_freq)\n",
    "\n",
    "    # Write to the output file\n",
    "    write('output_tone.wav', sampling_freq, synthesized_tone)"
   ]
  },
  {
   "cell_type": "code",
   "execution_count": 2,
   "id": "59f25157",
   "metadata": {},
   "outputs": [],
   "source": [
    "# Tone-duration sequence\n",
    "tone_seq = [('D', 0.3), ('G', 0.6), ('C', 0.5), ('A', 0.3), ('Asharp', 0.7)]"
   ]
  },
  {
   "cell_type": "code",
   "execution_count": 3,
   "id": "7d48dc91",
   "metadata": {},
   "outputs": [],
   "source": [
    "# Construct the audio signal based on the chord sequence\n",
    "output = np.array([])\n",
    "for item in tone_seq:\n",
    "    input_tone = item[0]\n",
    "    duration = item[1]\n",
    "    synthesized_tone = synthesizer(tone_freq_map[input_tone], duration, amplitude, sampling_freq)\n",
    "    output = np.append(output, synthesized_tone, axis=0)"
   ]
  },
  {
   "cell_type": "code",
   "execution_count": 4,
   "id": "503b0522",
   "metadata": {},
   "outputs": [],
   "source": [
    "# Write to the output file\n",
    "write('output_tone_seq.wav', sampling_freq, output)"
   ]
  },
  {
   "cell_type": "code",
   "execution_count": null,
   "id": "c182a1f8",
   "metadata": {},
   "outputs": [],
   "source": []
  }
 ],
 "metadata": {
  "kernelspec": {
   "display_name": "Python 3 (ipykernel)",
   "language": "python",
   "name": "python3"
  },
  "language_info": {
   "codemirror_mode": {
    "name": "ipython",
    "version": 3
   },
   "file_extension": ".py",
   "mimetype": "text/x-python",
   "name": "python",
   "nbconvert_exporter": "python",
   "pygments_lexer": "ipython3",
   "version": "3.9.13"
  }
 },
 "nbformat": 4,
 "nbformat_minor": 5
}
